{
 "cells": [
  {
   "cell_type": "markdown",
   "metadata": {},
   "source": [
    "# Feature Engineering for Physics-Informed ViT"
   ]
  },
  {
   "cell_type": "code",
   "execution_count": 2,
   "metadata": {},
   "outputs": [],
   "source": [
    "import logging\n",
    "\n",
    "import h5py\n",
    "import matplotlib.pyplot as plt\n",
    "import numpy as np\n",
    "import pandas as pd\n",
    "from sklearn.preprocessing import MinMaxScaler\n",
    "from src.config import CLASS_ID_SPATTER, CLASS_ID_STREAK, get_dataset_path\n",
    "from tqdm import tqdm\n"
   ]
  },
  {
   "cell_type": "code",
   "execution_count": 3,
   "metadata": {},
   "outputs": [],
   "source": [
    "# Constants for physics-based features\n",
    "LAYER_THICKNESS = 0.05  # mm"
   ]
  },
  {
   "cell_type": "code",
   "execution_count": 4,
   "metadata": {},
   "outputs": [],
   "source": [
    "# Set dataset key\n",
    "DATASET_KEY = \"tcr_phase1_build1\"\n",
    "data_path = get_dataset_path(DATASET_KEY)\n",
    "if data_path is None:\n",
    "    raise FileNotFoundError(f\"Dataset path for key '{DATASET_KEY}' not found.\")"
   ]
  },
  {
   "cell_type": "code",
   "execution_count": null,
   "metadata": {},
   "outputs": [
    {
     "ename": "NameError",
     "evalue": "name 'h5py' is not defined",
     "output_type": "error",
     "traceback": [
      "\u001b[31m---------------------------------------------------------------------------\u001b[39m",
      "\u001b[31mNameError\u001b[39m                                 Traceback (most recent call last)",
      "\u001b[36mCell\u001b[39m\u001b[36m \u001b[39m\u001b[32mIn[2]\u001b[39m\u001b[32m, line 2\u001b[39m\n\u001b[32m      1\u001b[39m \u001b[38;5;66;03m# Load HDF5 data\u001b[39;00m\n\u001b[32m----> \u001b[39m\u001b[32m2\u001b[39m \u001b[38;5;28;01mwith\u001b[39;00m \u001b[43mh5py\u001b[49m.File(data_path, \u001b[33m\"\u001b[39m\u001b[33mr\u001b[39m\u001b[33m\"\u001b[39m) \u001b[38;5;28;01mas\u001b[39;00m data:\n\u001b[32m      3\u001b[39m \n\u001b[32m      4\u001b[39m     \u001b[38;5;66;03m# --- 1. Load Temporal and Process Data ---\u001b[39;00m\n\u001b[32m      5\u001b[39m     temp_features = [\n\u001b[32m      6\u001b[39m         \u001b[33m\"\u001b[39m\u001b[33mtemporal/build_plate_temperature\u001b[39m\u001b[33m\"\u001b[39m,\n\u001b[32m      7\u001b[39m         \u001b[33m\"\u001b[39m\u001b[33mtemporal/top_chamber_temperature\u001b[39m\u001b[33m\"\u001b[39m,\n\u001b[32m   (...)\u001b[39m\u001b[32m     11\u001b[39m         \u001b[33m\"\u001b[39m\u001b[33mtemporal/gas_loop_oxygen\u001b[39m\u001b[33m\"\u001b[39m\n\u001b[32m     12\u001b[39m     ]\n\u001b[32m     14\u001b[39m     phys_df = pd.DataFrame({\n\u001b[32m     15\u001b[39m         key.split(\u001b[33m\"\u001b[39m\u001b[33m/\u001b[39m\u001b[33m\"\u001b[39m)[-\u001b[32m1\u001b[39m]: data[key][:] \u001b[38;5;28;01mfor\u001b[39;00m key \u001b[38;5;129;01min\u001b[39;00m temp_features\n\u001b[32m     16\u001b[39m     })\n",
      "\u001b[31mNameError\u001b[39m: name 'h5py' is not defined"
     ]
    }
   ],
   "source": [
    "# Load HDF5 data\n",
    "#TODO: Find out if pandas is actually slowing this block down. Numpy isn't that much any faster\n",
    "with h5py.File(data_path, \"r\") as data:\n",
    "\n",
    "    # --- 1. Load Temporal and Process Data ---\n",
    "    temp_features = [\n",
    "        \"temporal/build_plate_temperature\",\n",
    "        \"temporal/top_chamber_temperature\",\n",
    "        \"temporal/bottom_chamber_temperature\",\n",
    "        \"temporal/actual_ventilator_flow_rate\",\n",
    "        \"temporal/layer_times\",\n",
    "        \"temporal/gas_loop_oxygen\"\n",
    "    ]\n",
    "\n",
    "    phys_df = pd.DataFrame({\n",
    "        key.split(\"/\")[-1]: data[key][:] for key in temp_features\n",
    "    })\n",
    "\n",
    "    # Add derived physics features\n",
    "    power = data[\"parts/process_parameters/laser_beam_power\"][:]\n",
    "    speed = data[\"parts/process_parameters/laser_beam_speed\"][:]\n",
    "    hatch = data[\"parts/process_parameters/hatch_spacing\"][:]\n",
    "\n",
    "    energy_density = power / (speed * hatch * LAYER_THICKNESS)\n",
    "    phys_df[\"energy_density\"] = np.repeat(energy_density.mean(), len(phys_df))\n",
    "\n",
    "    # Normalize physics features\n",
    "    scaler = MinMaxScaler()\n",
    "    phys_scaled = pd.DataFrame(scaler.fit_transform(phys_df), columns=phys_df.columns)\n",
    "\n",
    "    # --- 2. Load Segmentation Labels for Spatter & Recoater Streaking ---\n",
    "    labels = []\n",
    "    for layer in tqdm(range(len(phys_scaled))):\n",
    "        try:\n",
    "            spatter = data[f\"slices/segmentation_results/{CLASS_ID_SPATTER}\"][layer]\n",
    "            recoater = data[f\"slices/segmentation_results/{CLASS_ID_STREAK}\"][layer]\n",
    "            labels.append({\n",
    "                \"layer\": layer,\n",
    "                \"spatter_present\": int(spatter.sum() > 0),\n",
    "                \"recoater_streaking_present\": int(recoater.sum() > 0)\n",
    "            })\n",
    "        except KeyError:\n",
    "            break\n",
    "\n",
    "    labels_df = pd.DataFrame(labels)\n",
    "\n",
    "    # --- 3. Merge Physics & Label Data ---\n",
    "    feature_df = pd.concat([labels_df.set_index(\"layer\"), phys_scaled], axis=1).dropna()\n",
    "\n",
    "    # --- 4. Preview Feature Correlation ---\n",
    "    plt.figure(figsize=(10, 6))\n",
    "    plt.title(\"Feature Correlation with Anomalies\")\n",
    "    correlation = feature_df.corr()\n",
    "    correlation[\"spatter_present\"].drop(\"spatter_present\").plot(kind=\"bar\", alpha=0.6, label=\"Spatter\")\n",
    "    correlation[\"recoater_streaking_present\"].drop(\"recoater_streaking_present\").plot(kind=\"bar\", alpha=0.6, label=\"Recoater\")\n",
    "    plt.legend()\n",
    "    plt.ylabel(\"Correlation coefficient\")\n",
    "    plt.xticks(rotation=45)\n",
    "    plt.tight_layout()\n",
    "    plt.show()\n",
    "\n",
    "    # # Save feature_df to use in later ViT training\n",
    "    # feature_df.to_csv(\"/data/feature_dataset.csv\", index=False)"
   ]
  },
  {
   "cell_type": "code",
   "execution_count": null,
   "metadata": {},
   "outputs": [],
   "source": [
    "print(\"Feature engineering complete. Saved to /data/feature_dataset.csv\")"
   ]
  },
  {
   "cell_type": "code",
   "execution_count": null,
   "metadata": {},
   "outputs": [],
   "source": []
  }
 ],
 "metadata": {
  "kernelspec": {
   "display_name": "Python 3",
   "language": "python",
   "name": "python3"
  },
  "language_info": {
   "codemirror_mode": {
    "name": "ipython",
    "version": 3
   },
   "file_extension": ".py",
   "mimetype": "text/x-python",
   "name": "python",
   "nbconvert_exporter": "python",
   "pygments_lexer": "ipython3",
   "version": "3.12.10"
  }
 },
 "nbformat": 4,
 "nbformat_minor": 2
}
