{
 "cells": [
  {
   "cell_type": "markdown",
   "id": "7c562046",
   "metadata": {},
   "source": [
    "# YOLO-based Segmentation of Recoater Streaking & Spatter\n",
    "\n",
    "This notebook uses a pre-trained YOLOv8 segmentation model to detect recoater streaks and spatter\n",
    "in each layer of a Laser Powder Bed Fusion build. We then compute per-layer anomaly areas for\n",
    "downstream analysis.\n",
    "\n",
    "---\n",
    "\n",
    "## 1. Setup & Imports"
   ]
  },
  {
   "cell_type": "code",
   "execution_count": 2,
   "id": "da52d571",
   "metadata": {},
   "outputs": [],
   "source": [
    "import os\n",
    "\n",
    "import h5py\n",
    "import matplotlib.pyplot as plt\n",
    "import numpy as np\n",
    "import pandas as pd\n",
    "import yaml\n",
    "from src.utils.yolo_segmentation import (\n",
    "    batch_predict_and_compute_areas,\n",
    "    load_hdf5_slice,\n",
    "    load_hdf5_stack,\n",
    "    visualize_detections,\n",
    ")\n",
    "from ultralytics import YOLO\n"
   ]
  },
  {
   "cell_type": "code",
   "execution_count": 3,
   "id": "71ecb2f1",
   "metadata": {},
   "outputs": [],
   "source": [
    "DATA_PATH     = os.path.abspath(\"../data/2021-04-16 TCR Phase 1 Build 2.hdf5\") \n",
    "CAMERA_PATH   = \"slices/camera_data/visible/0\"\n",
    "IMG_TRAIN_DIR = os.path.abspath(\"../data/tcr_phase1_build2/images/train\")\n",
    "LBL_TRAIN_DIR = os.path.abspath(\"../data/tcr_phase1_build2/labels/train\") \n",
    "DATA_YAML     = os.path.abspath(\"data.yaml\") \n",
    "\n",
    "# Classes\n",
    "CLASS_MAP = {1: \"spatter\", 2: \"streak\"}\n",
    "PIXEL_SIZE_MM2 = 0.01  # adjust to your calibration\n",
    "\n",
    "# YOLO parameters\n",
    "WEIGHTS      = \"yolov8s-seg.pt\" # Pretrained weights for initial model\n",
    "EPOCHS       = 50\n",
    "BATCH_SIZE   = 8\n",
    "IMG_SIZE     = 640\n",
    "CONF_THRESH  = 0.25\n"
   ]
  },
  {
   "cell_type": "code",
   "execution_count": null,
   "id": "637da317",
   "metadata": {},
   "outputs": [],
   "source": [
    "cfg = {\n",
    "    \"train\": IMG_TRAIN_DIR,\n",
    "    \"val\":   IMG_TRAIN_DIR,    # replace with real val split if you have one\n",
    "    \"nc\":    len(CLASS_MAP),\n",
    "    \"names\": list(CLASS_MAP.values()),\n",
    "}\n",
    "with open(DATA_YAML, \"w\") as f:\n",
    "    yaml.dump(cfg, f)\n",
    "print(\"Wrote\", DATA_YAML)\n"
   ]
  },
  {
   "cell_type": "code",
   "execution_count": null,
   "id": "9fd5f650",
   "metadata": {},
   "outputs": [],
   "source": [
    "model = YOLO(WEIGHTS)\n",
    "model.train(\n",
    "    data=DATA_YAML,\n",
    "    epochs=EPOCHS,\n",
    "    imgsz=IMG_SIZE,\n",
    "    batch=BATCH_SIZE,\n",
    "    project=\"runs/segment\",\n",
    "    name=\"yolo_spatter_streak\",\n",
    ")"
   ]
  },
  {
   "cell_type": "code",
   "execution_count": null,
   "id": "27f1fa8a",
   "metadata": {},
   "outputs": [],
   "source": [
    "finetuned = YOLO(\"runs/segment/yolo_spatter_streak/weights/best.pt\")\n",
    "# test on layer 0\n",
    "with h5py.File(DATA_PATH, \"r\") as h5:\n",
    "    img0 = load_hdf5_slice(DATA_PATH, 0, CAMERA_PATH)\n",
    "res0 = finetuned(img0, imgsz=IMG_SIZE, conf=CONF_THRESH)\n",
    "vis0 = visualize_detections(img0, res0)\n",
    "plt.imshow(vis0); plt.axis(\"off\"); plt.title(\"Layer 0 - Fine-tuned\")"
   ]
  },
  {
   "cell_type": "code",
   "execution_count": null,
   "id": "5b5e2775",
   "metadata": {},
   "outputs": [],
   "source": [
    "# 1) load full stack into memory (or chunk manually if too big)\n",
    "stack = load_hdf5_stack(DATA_PATH, CAMERA_PATH)  # shape (N,H,W,3)\n",
    "N = stack.shape[0]\n",
    "\n",
    "# 2) preallocate\n",
    "recoater_areas = np.zeros(N, dtype=float)\n",
    "spatter_areas  = np.zeros(N, dtype=float)\n",
    "\n",
    "# 3) run in batches\n",
    "for i in range(0, N, BATCH_SIZE):\n",
    "    batch = stack[i : i + BATCH_SIZE]\n",
    "    recoater_areas[i : i + BATCH_SIZE] = batch_predict_and_compute_areas(\n",
    "        finetuned, batch, [2], PIXEL_SIZE_MM2, imgsz=IMG_SIZE, conf=CONF_THRESH\n",
    "    )\n",
    "    spatter_areas[i : i + BATCH_SIZE] = batch_predict_and_compute_areas(\n",
    "        finetuned, batch, [1], PIXEL_SIZE_MM2, imgsz=IMG_SIZE, conf=CONF_THRESH\n",
    "    )\n",
    "    print(f\"Processed layers {i}–{i+BATCH_SIZE}\")\n",
    "\n",
    "# 4) assemble DataFrame\n",
    "df = pd.DataFrame({\n",
    "    \"layer\": np.arange(N),\n",
    "    \"recoater_mm2\": recoater_areas,\n",
    "    \"spatter_mm2\": spatter_areas,\n",
    "})\n",
    "df.head()\n"
   ]
  },
  {
   "cell_type": "code",
   "execution_count": null,
   "metadata": {},
   "outputs": [],
   "source": [
    "plt.figure(figsize=(10,4))\n",
    "plt.plot(df.layer, df.recoater_mm2, label=\"Recoater\")\n",
    "plt.plot(df.layer, df.spatter_mm2, label=\"Spatter\")\n",
    "plt.xlabel(\"Layer\"); plt.ylabel(\"Anomaly Area (mm²)\")\n",
    "plt.legend(); plt.title(\"Per-Layer Anomaly Areas\")\n",
    "plt.show()"
   ]
  }
 ],
 "metadata": {
  "kernelspec": {
   "display_name": "Python 3",
   "language": "python",
   "name": "python3"
  },
  "language_info": {
   "codemirror_mode": {
    "name": "ipython",
    "version": 3
   },
   "file_extension": ".py",
   "mimetype": "text/x-python",
   "name": "python",
   "nbconvert_exporter": "python",
   "pygments_lexer": "ipython3",
   "version": "3.12.10"
  }
 },
 "nbformat": 4,
 "nbformat_minor": 5
}
