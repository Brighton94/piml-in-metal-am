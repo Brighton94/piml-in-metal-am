{
 "cells": [
  {
   "cell_type": "code",
   "execution_count": null,
   "id": "b1032fd7",
   "metadata": {},
   "outputs": [],
   "source": [
    "import contextlib\n",
    "\n",
    "import matplotlib.pyplot as plt\n",
    "import torch\n",
    "import torch.nn.functional as F\n",
    "from src.datasets.multi_build import build_dataset_from_keys\n",
    "from src.models.segformer_baseline import load_model\n",
    "from torch.utils.data import DataLoader, random_split\n",
    "from tqdm.auto import tqdm"
   ]
  },
  {
   "cell_type": "code",
   "execution_count": null,
   "id": "4a8eb91a",
   "metadata": {},
   "outputs": [],
   "source": [
    "BUILD_KEYS = [\"tcr_phase1_build1\", \"tcr_phase1_build2\"]"
   ]
  },
  {
   "cell_type": "markdown",
   "id": "18b35a0c",
   "metadata": {},
   "source": [
    "### 1. Dataset & DataLoader"
   ]
  },
  {
   "cell_type": "code",
   "execution_count": null,
   "id": "a70ad729",
   "metadata": {},
   "outputs": [],
   "source": [
    "# Build & split\n",
    "full_ds = build_dataset_from_keys(\n",
    "    BUILD_KEYS, size=512, augment=True, layers=range(0, 100, 10)\n",
    ")\n",
    "n_val   = int(len(full_ds) * 0.1)\n",
    "n_train = len(full_ds) - n_val\n",
    "train_ds, val_ds = random_split(\n",
    "    full_ds, [n_train, n_val],\n",
    "    generator=torch.Generator().manual_seed(42)\n",
    ")"
   ]
  },
  {
   "cell_type": "code",
   "execution_count": null,
   "id": "2abc4a72",
   "metadata": {},
   "outputs": [],
   "source": [
    "# DataLoaders\n",
    "train_loader = DataLoader(\n",
    "    train_ds,\n",
    "    batch_size=8,\n",
    "    shuffle=True,\n",
    "    num_workers=4,\n",
    "    pin_memory=True,         # faster host → device copies\n",
    "    prefetch_factor=4,\n",
    "    persistent_workers=True,\n",
    ")\n",
    "val_loader = DataLoader(\n",
    "    val_ds,\n",
    "    batch_size=8,\n",
    "    shuffle=False,\n",
    "    num_workers=4,\n",
    "    pin_memory=True,\n",
    "    prefetch_factor=4,\n",
    "    persistent_workers=True,\n",
    ")"
   ]
  },
  {
   "cell_type": "code",
   "execution_count": null,
   "id": "e6f4201e",
   "metadata": {},
   "outputs": [],
   "source": [
    "\n",
    "print(f\"Train batches: {len(train_loader)}, Val batches: {len(val_loader)}\")"
   ]
  },
  {
   "cell_type": "markdown",
   "id": "a60844a0",
   "metadata": {},
   "source": [
    "### 2. Model & Helpers"
   ]
  },
  {
   "cell_type": "code",
   "execution_count": null,
   "id": "0729a324",
   "metadata": {},
   "outputs": [],
   "source": [
    "# Load ViT‐SegFormer\n",
    "processor, model = load_model()\n",
    "device = \"cuda\" if torch.cuda.is_available() else \"cpu\"\n",
    "model.to(device)\n",
    "\n",
    "# Optimiser + scaler\n",
    "opt     = torch.optim.AdamW(model.parameters(), lr=3e-4, weight_decay=1e-2)\n",
    "scaler  = torch.amp.GradScaler(device_type=\"cuda\") if device.startswith(\"cuda\") else None  # noqa: E501"
   ]
  },
  {
   "cell_type": "code",
   "execution_count": null,
   "id": "2f16a156",
   "metadata": {},
   "outputs": [],
   "source": [
    "def train_one_epoch(model, loader, opt, scaler, device, desc=\"train\"):\n",
    "    \"\"\"Run one training epoch and return (loss, mIoU).\"\"\"\n",
    "    \n",
    "    model.train()\n",
    "    inter = union = loss_sum = 0.0\n",
    "    n = 0\n",
    "\n",
    "    use_cuda = device.startswith(\"cuda\")\n",
    "\n",
    "    def autocast():\n",
    "        return (\n",
    "            torch.amp.autocast(device_type=\"cuda\")\n",
    "            if use_cuda\n",
    "            else contextlib.nullcontext()      # <- note the ()\n",
    "        )\n",
    "\n",
    "    for imgs, masks in tqdm(loader, desc=desc, leave=False):\n",
    "        imgs, masks = imgs.to(device), masks.to(device)\n",
    "\n",
    "        with autocast():\n",
    "            out = model(pixel_values=imgs).logits\n",
    "            logits = F.interpolate(\n",
    "                out, size=masks.shape[-2:], mode=\"bilinear\", align_corners=False\n",
    "            ).squeeze(1)\n",
    "            loss = F.binary_cross_entropy_with_logits(logits, masks.float())\n",
    "\n",
    "        opt.zero_grad(set_to_none=True)\n",
    "        if use_cuda:\n",
    "            scaler.scale(loss).backward()\n",
    "            scaler.step(opt)\n",
    "            scaler.update()\n",
    "        else:\n",
    "            loss.backward()\n",
    "            opt.step()\n",
    "\n",
    "        preds = torch.sigmoid(logits) > 0.5\n",
    "        inter += torch.logical_and(preds, masks).sum().item()\n",
    "        union += torch.logical_or(preds, masks).sum().item()\n",
    "\n",
    "        loss_sum += loss.item()\n",
    "        n += 1\n",
    "\n",
    "    return loss_sum / n, inter / (union + 1e-6)"
   ]
  },
  {
   "cell_type": "code",
   "execution_count": null,
   "id": "b528dae7",
   "metadata": {},
   "outputs": [],
   "source": [
    "@torch.no_grad()\n",
    "def eval_one_epoch(model, loader, device, desc=\"val\"):\n",
    "    \"\"\"Run one validation epoch and return (loss, mIoU).\"\"\"\n",
    "    \n",
    "    model.eval()\n",
    "    inter = union = loss_sum = 0.0\n",
    "    n = 0\n",
    "\n",
    "    for imgs, masks in tqdm(loader, desc=desc, leave=False):\n",
    "        imgs, masks = imgs.to(device), masks.to(device)\n",
    "        out = model(pixel_values=imgs).logits\n",
    "        logits = F.interpolate(\n",
    "            out, size=masks.shape[-2:], mode=\"bilinear\", align_corners=False\n",
    "        ).squeeze(1)\n",
    "        loss = F.binary_cross_entropy_with_logits(logits, masks.float())\n",
    "\n",
    "        preds = torch.sigmoid(logits) > 0.5\n",
    "        inter += torch.logical_and(preds, masks).sum().item()\n",
    "        union += torch.logical_or(preds, masks).sum().item()\n",
    "\n",
    "        loss_sum += loss.item()\n",
    "        n += 1\n",
    "\n",
    "    return loss_sum / n, inter / (union + 1e-6)"
   ]
  },
  {
   "cell_type": "markdown",
   "id": "6ef33477",
   "metadata": {},
   "source": [
    "### 4. Quick Epoch Run & History"
   ]
  },
  {
   "cell_type": "markdown",
   "id": "7340e272",
   "metadata": {},
   "source": [
    "Currently could take up to 11 hours and 5 minutes. Lighter models being explored."
   ]
  },
  {
   "cell_type": "code",
   "execution_count": null,
   "id": "11615f4f",
   "metadata": {},
   "outputs": [],
   "source": [
    "EPOCHS = 5\n",
    "history = {\"train_loss\": [], \"train_iou\": [], \"val_loss\": [], \"val_iou\": []}\n",
    "\n",
    "for ep in range(EPOCHS):\n",
    "    tl, ti = train_one_epoch(\n",
    "        model, train_loader, opt, scaler, device, desc=f\"ep{ep:02d}_train\"\n",
    "    )\n",
    "    vl, vi = eval_one_epoch(model, val_loader, device, desc=f\"ep{ep:02d}_val\")\n",
    "    history[\"train_loss\"].append(tl)\n",
    "    history[\"train_iou\"].append(ti)\n",
    "    history[\"val_loss\"].append(vl)\n",
    "    history[\"val_iou\"].append(vi)\n",
    "    print(\n",
    "        f\"Epoch {ep:02d} ▶ train_loss={tl:.3f}, train_iou={ti:.3f} | \"\n",
    "        f\"val_loss={vl:.3f}, val_iou={vi:.3f}\"\n",
    "    )"
   ]
  },
  {
   "cell_type": "markdown",
   "id": "9b26e407",
   "metadata": {},
   "source": [
    "### 5. Plot Training Curves"
   ]
  },
  {
   "cell_type": "code",
   "execution_count": null,
   "id": "aaed2d0f",
   "metadata": {},
   "outputs": [],
   "source": [
    "epochs = range(EPOCHS)\n",
    "plt.figure(figsize=(10,4))\n",
    "\n",
    "plt.subplot(1,2,1)\n",
    "plt.plot(epochs, history[\"train_loss\"], marker=\"o\", label=\"train\")\n",
    "plt.plot(epochs, history[\"val_loss\"],   marker=\"o\", label=\"val\")\n",
    "plt.title(\"BCE-Logits Loss\")\n",
    "plt.xlabel(\"Epoch\"); plt.ylabel(\"Loss\")\n",
    "plt.legend()\n",
    "\n",
    "plt.subplot(1,2,2)\n",
    "plt.plot(epochs, history[\"train_iou\"], marker=\"o\", label=\"train\")\n",
    "plt.plot(epochs, history[\"val_iou\"],   marker=\"o\", label=\"val\")\n",
    "plt.title(\"Mean IoU\")\n",
    "plt.xlabel(\"Epoch\"); plt.ylabel(\"IoU\")\n",
    "plt.legend()\n",
    "\n",
    "plt.tight_layout()\n",
    "plt.show()"
   ]
  },
  {
   "cell_type": "markdown",
   "id": "2132f005",
   "metadata": {},
   "source": [
    "### 6. Prediction Visualization"
   ]
  },
  {
   "cell_type": "code",
   "execution_count": null,
   "id": "dd26299f",
   "metadata": {},
   "outputs": [],
   "source": [
    "# grab one batch from validation\n",
    "imgs, masks = next(iter(val_loader))\n",
    "imgs, masks = imgs.to(device), masks.to(device)\n",
    "\n",
    "# forward & threshold\n",
    "with torch.no_grad():\n",
    "    out    = model(pixel_values=imgs).logits\n",
    "    logits = F.interpolate(\n",
    "        out, size=masks.shape[-2:], mode=\"bilinear\", align_corners=False\n",
    "    ).squeeze(1)\n",
    "    preds  = (torch.sigmoid(logits) > 0.5).cpu()\n",
    "\n",
    "# plot first 4\n",
    "N = min(4, imgs.size(0))\n",
    "plt.figure(figsize=(12, 8))\n",
    "for i in range(N):\n",
    "    img_np = imgs[i].cpu().permute(1,2,0).numpy()\n",
    "    mask_gt = masks[i].cpu().numpy()\n",
    "    mask_pr = preds[i].numpy()\n",
    "\n",
    "    plt.subplot(N, 3, 3*i+1)\n",
    "    plt.imshow(img_np); plt.title(\"Image\"); plt.axis(\"off\")\n",
    "    plt.subplot(N, 3, 3*i+2)\n",
    "    plt.imshow(mask_gt, cmap=\"gray\"); plt.title(\"GT Mask\"); plt.axis(\"off\")\n",
    "    plt.subplot(N, 3, 3*i+3)\n",
    "    plt.imshow(mask_pr, cmap=\"gray\"); plt.title(\"Pred Mask\"); plt.axis(\"off\")\n",
    "plt.tight_layout()\n",
    "plt.show()"
   ]
  }
 ],
 "metadata": {
  "kernelspec": {
   "display_name": "Python 3",
   "language": "python",
   "name": "python3"
  },
  "language_info": {
   "codemirror_mode": {
    "name": "ipython",
    "version": 3
   },
   "file_extension": ".py",
   "mimetype": "text/x-python",
   "name": "python",
   "nbconvert_exporter": "python",
   "pygments_lexer": "ipython3",
   "version": "3.12.10"
  }
 },
 "nbformat": 4,
 "nbformat_minor": 5
}
