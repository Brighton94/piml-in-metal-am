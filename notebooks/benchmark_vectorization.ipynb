{
 "cells": [
  {
   "cell_type": "markdown",
   "id": "0cfa64a3",
   "metadata": {},
   "source": [
    "# Benchmark — Naive vs Vectorised Layer Summaries\n",
    "This notebook times two approaches for computing per-layer streak & spatter pixel counts:\n",
    "- **Naive loop**: reads one layer at a time, sums in Python.\n",
    "- **Vectorised batch**: reads 128 layers at once, sums in NumPy C-loops."
   ]
  },
  {
   "cell_type": "code",
   "execution_count": 6,
   "id": "58341bc1",
   "metadata": {},
   "outputs": [],
   "source": [
    "\n",
    "import contextlib\n",
    "import pathlib\n",
    "import time\n",
    "\n",
    "import h5py\n",
    "import numpy as np\n",
    "import pandas as pd\n",
    "from tqdm.auto import tqdm\n",
    "\n",
    "H5 = pathlib.Path(\"../data/2021-07-13 TCR Phase 1 Build 1.hdf5\")\n",
    "CLS_STREAK, CLS_SPATTER = 3, 8\n",
    "EDGE_FRAC = 0.10\n"
   ]
  },
  {
   "cell_type": "code",
   "execution_count": null,
   "id": "f6058582",
   "metadata": {},
   "outputs": [],
   "source": [
    "@contextlib.contextmanager\n",
    "def timed(label: str):\n",
    "    start = time.perf_counter()\n",
    "    yield\n",
    "    end = time.perf_counter()\n",
    "    print(f\"{label} took {end - start:.2f} s\")"
   ]
  },
  {
   "cell_type": "code",
   "execution_count": null,
   "id": "c60ad9c3",
   "metadata": {},
   "outputs": [],
   "source": [
    "def summarise_layers_naive(max_layers=None):\n",
    "    with h5py.File(H5, \"r\") as h5:\n",
    "        seg = h5[\"slices/segmentation_results\"]\n",
    "        streak_ds = seg[str(CLS_STREAK)]\n",
    "        spatt_ds = seg[str(CLS_SPATTER)]\n",
    "        nL, ny, nx = streak_ds.shape\n",
    "        if max_layers:\n",
    "            nL = min(nL, max_layers)\n",
    "        edge = int(nx * EDGE_FRAC)\n",
    "        recs = []\n",
    "        for k in tqdm(range(nL), desc=\"Naive\"):\n",
    "            st = streak_ds[k][...]\n",
    "            sp = spatt_ds[k][...]\n",
    "            recs.append({\n",
    "                \"layer\": k,\n",
    "                \"streak_px\": int(st.sum()),\n",
    "                \"spatter_px\": int(sp.sum()),\n",
    "                \"streak_right\": int(st[:, -edge:].sum()),\n",
    "                \"streak_left\": int(st[:, :edge].sum()),\n",
    "            })\n",
    "    return pd.DataFrame(recs).set_index(\"layer\")"
   ]
  },
  {
   "cell_type": "code",
   "execution_count": null,
   "id": "5681fd96",
   "metadata": {},
   "outputs": [],
   "source": [
    "def summarise_layers_vec(batch=128, max_layers=None):\n",
    "    with h5py.File(H5, \"r\") as h5:\n",
    "        seg = h5[\"slices/segmentation_results\"]\n",
    "        streak_ds = seg[str(CLS_STREAK)]\n",
    "        spatt_ds = seg[str(CLS_SPATTER)]\n",
    "        nL, ny, nx = streak_ds.shape\n",
    "        if max_layers:\n",
    "            nL = min(nL, max_layers)\n",
    "        edge = int(nx * EDGE_FRAC)\n",
    "        cols = (\"streak_px spatter_px streak_left streak_right\").split()\n",
    "        out = np.zeros((nL, len(cols)), dtype=np.int64)\n",
    "        for start in tqdm(range(0, nL, batch), desc=\"Vectorised\"):\n",
    "            end = min(start + batch, nL)\n",
    "            slc = slice(start, end)\n",
    "            st = streak_ds[slc]\n",
    "            sp = spatt_ds[slc]\n",
    "            out[slc,0] = st.sum(axis=(1,2))\n",
    "            out[slc,1] = sp.sum(axis=(1,2))\n",
    "            out[slc,2] = st[:,:, :edge].sum(axis=(1,2))\n",
    "            out[slc,3] = st[:,:, -edge:].sum(axis=(1,2))\n",
    "    return pd.DataFrame(out, columns=cols).rename_axis(\"layer\")"
   ]
  },
  {
   "cell_type": "code",
   "execution_count": null,
   "id": "b8ad1333",
   "metadata": {},
   "outputs": [
    {
     "data": {
      "application/vnd.jupyter.widget-view+json": {
       "model_id": "081239da75c549dbb7787f5a9a334924",
       "version_major": 2,
       "version_minor": 0
      },
      "text/plain": [
       "Naive:   0%|          | 0/10 [00:00<?, ?it/s]"
      ]
     },
     "metadata": {},
     "output_type": "display_data"
    },
    {
     "name": "stdout",
     "output_type": "stream",
     "text": [
      "Naive approach took 12.66 s\n"
     ]
    },
    {
     "data": {
      "application/vnd.jupyter.widget-view+json": {
       "model_id": "473e3766f0da4a37b0e26ed980a82e34",
       "version_major": 2,
       "version_minor": 0
      },
      "text/plain": [
       "Vectorised:   0%|          | 0/1 [00:00<?, ?it/s]"
      ]
     },
     "metadata": {},
     "output_type": "display_data"
    },
    {
     "name": "stdout",
     "output_type": "stream",
     "text": [
      "Vectorised approach took 1.50 s\n"
     ]
    }
   ],
   "source": [
    "MAX_LAYERS = 1000  # set None for full run\n",
    "\n",
    "with timed(\"Naive approach\"):\n",
    "    df_naive = summarise_layers_naive(MAX_LAYERS)\n",
    "\n",
    "with timed(\"Vectorised approach\"):\n",
    "    df_vec = summarise_layers_vec(batch=128, max_layers=MAX_LAYERS)"
   ]
  }
 ],
 "metadata": {
  "kernelspec": {
   "display_name": "Python 3",
   "name": "python3"
  },
  "language_info": {
   "codemirror_mode": {
    "name": "ipython",
    "version": 3
   },
   "file_extension": ".py",
   "mimetype": "text/x-python",
   "name": "python",
   "nbconvert_exporter": "python",
   "pygments_lexer": "ipython3",
   "version": "3.12.10"
  }
 },
 "nbformat": 4,
 "nbformat_minor": 5
}
