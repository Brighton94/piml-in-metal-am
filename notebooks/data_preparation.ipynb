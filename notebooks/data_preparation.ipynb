{
    "cells": [
        {
            "cell_type": "markdown",
            "metadata": {
                "id": "markdown-intro"
            },
            "source": [
                "# Data Preparation for YOLO Training\n",
                "\n",
                "This notebook demonstrates how to use the `export_yolo_training_data.py` script to prepare image and label data from HDF5 files for YOLO model training.\n",
                "\n",
                "The script is located at `src/utils/export_yolo_training_data.py`."
            ]
        },
        {
            "cell_type": "markdown",
            "metadata": {
                "id": "markdown-list-builds"
            },
            "source": [
                "## List Available Dataset Builds\n",
                "\n",
                "First, let's see which dataset builds are configured and available. The script uses build keys defined in `src/config.py`."
            ]
        },
        {
            "cell_type": "code",
            "execution_count": 1,
            "metadata": {
                "id": "code-list-builds"
            },
            "outputs": [
                {
                    "name": "stdout",
                    "output_type": "stream",
                    "text": [
                        "Available dataset build keys:\n",
                        "  - tcr_phase1_build1\n",
                        "  - tcr_phase1_build2\n",
                        "  - tcr_phase1_build3\n",
                        "  - tcr_phase1_build4\n",
                        "  - tcr_phase1_build5\n"
                    ]
                }
            ],
            "source": [
                "!python ../src/utils/export_yolo_training_data.py --list_builds"
            ]
        },
        {
            "cell_type": "markdown",
            "metadata": {
                "id": "markdown-export-data"
            },
            "source": [
                "## Export Data for a Specific Build\n",
                "\n",
                "Now, let's export the data for a specific build. Replace `'your_build_key_here'` with one of the keys listed above (e.g., `tcr_phase1_build1`).\n",
                "\n",
                "The script will create `images/train` and `labels/train` directories under `data/<build_key>/`."
            ]
        },
        {
            "cell_type": "code",
            "execution_count": 2,
            "metadata": {
                "id": "code-export-data"
            },
            "outputs": [
                {
                    "name": "stdout",
                    "output_type": "stream",
                    "text": [
                        "2025-05-09 11:53:09,283 - INFO - Starting YOLO data export process for build: tcr_phase1_build1\n",
                        "2025-05-09 11:53:09,283 - INFO - Target training image directory: /piml-in-metal-am/data/tcr_phase1_build1/images/train\n",
                        "2025-05-09 11:53:09,283 - INFO - Target training label directory: /piml-in-metal-am/data/tcr_phase1_build1/labels/train\n",
                        "2025-05-09 11:53:09,283 - INFO - Reading HDF5 data from: /mnt/ssd/l-pbf-dataset/2021-07-13 TCR Phase 1 Build 1.hdf5\n",
                        "2025-05-09 11:53:09,284 - INFO - Exporting 3575 layers as images and masks...\n",
                        "Processing layers:   2%|▎                   | 57/3575 [03:47<4:05:51,  4.19s/it]^C\n"
                    ]
                }
            ],
            "source": [
                "!python ../src/utils/export_yolo_training_data.py --build_key tcr_phase1_build1"
            ]
        },
        {
            "cell_type": "markdown",
            "metadata": {
                "id": "markdown-verify"
            },
            "source": [
                "## Verify Exported Data (Optional)\n",
                "\n",
                "You can verify the exported data by checking the output directories. For example, to list the contents of the output directories for `tcr_phase1_build1`:"
            ]
        },
        {
            "cell_type": "code",
            "execution_count": null,
            "metadata": {
                "id": "code-verify-data"
            },
            "outputs": [],
            "source": [
                "# Replace 'tcr_phase1_build1' with the build key you used for export\n",
                "import os\n",
                "\n",
                "build_key = 'tcr_phase1_build1' # Change this if you used a different key\n",
                "project_root = '..'\n",
                "img_dir = os.path.join(project_root, 'data', build_key, 'images', 'train')\n",
                "lbl_dir = os.path.join(project_root, 'data', build_key, 'labels', 'train')\n",
                "\n",
                "print(f\"Checking images in: {img_dir}\")\n",
                "if os.path.exists(img_dir):\n",
                "    print(os.listdir(img_dir)[:5]) # Print first 5 image files\n",
                "else:\n",
                "    print(f\"Directory not found: {img_dir}\")\n",
                "\n",
                "print(f\"\\nChecking labels in: {lbl_dir}\")\n",
                "if os.path.exists(lbl_dir):\n",
                "    print(os.listdir(lbl_dir)[:5]) # Print first 5 label files\n",
                "else:\n",
                "    print(f\"Directory not found: {lbl_dir}\")"
            ]
        }
    ],
    "metadata": {
        "kernelspec": {
            "display_name": "Python 3",
            "language": "python",
            "name": "python3"
        },
        "language_info": {
            "codemirror_mode": {
                "name": "ipython",
                "version": 3
            },
            "file_extension": ".py",
            "mimetype": "text/x-python",
            "name": "python",
            "nbconvert_exporter": "python",
            "pygments_lexer": "ipython3",
            "version": "3.12.10"
        }
    },
    "nbformat": 4,
    "nbformat_minor": 5
}
